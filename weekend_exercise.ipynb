{
 "cells": [
  {
   "cell_type": "markdown",
   "metadata": {},
   "source": [
    "<img src=\"https://s3-ap-southeast-1.amazonaws.com/he-public-data/wordmark_black65ee464.png\" width=\"700\">"
   ]
  },
  {
   "cell_type": "markdown",
   "metadata": {},
   "source": [
    "# Weekend Exercise (Ungraded)\n",
    "\n",
    "**Welcome to the weekend exercise of Qiskit Challenge India!**\n",
    "\n",
    "During all the questions so far you've been asked to use simulators with no (or negligible) noise to do the computational tasks necessary. However, Quantum Computers today are far from ideal and noiseless. As coined by John Preskill we are in the [Noisy Intermediate Scale Quantum (NISQ)](https://arxiv.org/abs/1801.00862) era where our quantum computers are of the intermediate scale (50-100 qubits) and are very noisy, for example, a qubit initialized in the $|0\\rangle$ state might not give $0$ on measurement in the computational basis all the time.\n",
    "\n",
    "To understand the statement above lets do an experiment on a noiseless simulator and on an actual quantum computer and compare the results. \n",
    "\n",
    "### Simulator"
   ]
  },
  {
   "cell_type": "code",
   "execution_count": null,
   "metadata": {},
   "outputs": [],
   "source": [
    "%matplotlib inline\n",
    "from qiskit import QuantumCircuit, execute, Aer\n",
    "from qiskit.tools.jupyter import *\n",
    "from qiskit.visualization import *\n",
    "import numpy as np"
   ]
  },
  {
   "cell_type": "code",
   "execution_count": null,
   "metadata": {},
   "outputs": [],
   "source": [
    "qc = QuantumCircuit(1, 1)\n",
    "qc.x(0)\n",
    "qc.measure(0,0)\n",
    "qc.draw(output=\"mpl\")"
   ]
  },
  {
   "cell_type": "markdown",
   "metadata": {},
   "source": [
    "Once we build our circuit lets use the `qasm_simulator` from Aer to get the measurement counts"
   ]
  },
  {
   "cell_type": "code",
   "execution_count": null,
   "metadata": {},
   "outputs": [],
   "source": [
    "backend = Aer.get_backend(\"qasm_simulator\")\n",
    "job = execute(qc,backend=backend, shots =1000)\n",
    "counts = job.result().get_counts()\n",
    "plot_histogram(counts)"
   ]
  },
  {
   "cell_type": "markdown",
   "metadata": {},
   "source": [
    "As you'd expect we received all 1000 counts to be corresponding to `1`. Now lets do the same experiment on a real device. "
   ]
  },
  {
   "cell_type": "markdown",
   "metadata": {},
   "source": [
    "### Real device\n",
    "\n",
    "To run your experiments on a real device you'll first need to create(login into) an [IBM Quantum Experience](https://www.ibm.com/quantum-computing/technology/experience/) account and follow the instructions given [here](https://qiskit.org/documentation/install.html#install-access-ibm-q-devices-label) to be able to access IBM quantum services form Qiskit."
   ]
  },
  {
   "cell_type": "code",
   "execution_count": null,
   "metadata": {},
   "outputs": [],
   "source": [
    "# only run this cell once, running it the second time might raise an error/warning as enable_account() already has your token stored\n",
    "from qiskit import IBMQ\n",
    "\n",
    "# to enabble your account you'll need to enter your token from IBM Quantum Experience in 'YOUR_IBM_TOKEN' in a string format \n",
    "IBMQ.enable_account('YOUR_IBM_TOKEN')"
   ]
  },
  {
   "cell_type": "code",
   "execution_count": null,
   "metadata": {},
   "outputs": [],
   "source": [
    "# loading your account\n",
    "IBMQ.load_account() \n",
    "\n",
    "# Getting a backend for running the circuit on. In this case 'ibm_armonk'. For more devices you have access to you \n",
    "# can look into your IBM Q Experience account's dashboard.\n",
    "provider = IBMQ.get_provider(hub='ibm-q')\n",
    "backend = provider.get_backend(\"ibmq_armonk\")"
   ]
  },
  {
   "cell_type": "code",
   "execution_count": null,
   "metadata": {},
   "outputs": [],
   "source": [
    "job = execute(qc,backend=backend,shots =1000)\n",
    "counts = job.result().get_counts()\n",
    "plot_histogram(counts)"
   ]
  },
  {
   "cell_type": "markdown",
   "metadata": {},
   "source": [
    "From the above histogram we see that not all the counts resulted in a `1`. This is an example of the noise that gates induce. It's important to note that different gates induce different levels of noise into the system. For example, 2-qubit gates induce a lot more noise into the system than single qubit gates, hence while creating circuits to be run on real devices we should be wary of the number of 2-qubit gates being used and try to reduce them as much as possible. This idea will be the essence of the exercise today. [Chapter 5 of the Qiskit Textbook](https://qiskit.org/textbook/ch-quantum-hardware/index-circuits.html) delves deeper into noise and some methods to tackle it if you're interested in learning more. \n",
    "\n",
    "While in today's exercise we won't be working with noisy simulators or real devices, lets take a step forward in understanding how to build circuits that give better results in the presence of noise. To do that lets dive into the exercise: "
   ]
  },
  {
   "cell_type": "markdown",
   "metadata": {},
   "source": [
    "## Exercise: Construct a 3 digit binary adder circuit with minimum cost.\n",
    "\n",
    "You have learnt how to construct a binary half adder in [Chapter 1.2](https://qiskit.org/textbook/ch-states/atoms-computation.html) of the Qiskit Textbook. Using that knowledge we want you to create a 3 digit binary adder circuit which can do computations such as $101 + 110 = 1011$ where each input is a 3 digit binary number and the output is a four digit binary number. Your task is to find such a circuit with the least cost possible. The exercise is intentionally defined without many constraints to give you the freedom to test different data encoding schemes, basis gate sets, etc. \n",
    "\n",
    "Let us now define our cost function: \n",
    "\n",
    "**Cost of the circuit = Number of Single qubit gates + 10 $\\times$ Number of CX gates** \n",
    "\n",
    "### The cost function\n",
    "\n",
    "Any given quantum circuit can be decomposed into single-qubit and `CX` gates as they are a set of [universal quantum gates](https://en.wikipedia.org/wiki/Quantum_logic_gate#Universal_quantum_gates). With the current Noisy Intermediate-Scale Quantum (NISQ) devices noise introduced is higher when implementing a `CX` gate. Therefore, we  weigh `CX` gates 10 times more than a single-qubit gate while evaluating the cost of our circuit. To evaluate the cost of your circuit you can use the `cost_function()` method given below. \n",
    "\n",
    "The `cost_function()` takes as **input**: \n",
    "\n",
    "* `circuit`: (`QuantumCircuit`) -- The quantum circuit for which you'd like to find the cost.\n",
    "\n",
    "And gives as **output**:\n",
    "\n",
    "\n",
    "* `circuit_cost`: (`a`) -- Cost of the circuit\n",
    "\n",
    "\n",
    "* `gates`: (`Dict`) -- Dictionary with the number of gates used in the circuit\n",
    "\n",
    "\n",
    "* `unrolled_circuit`: (`QuantumCircuit`) -- The resultant circuit after change of basis"
   ]
  },
  {
   "cell_type": "code",
   "execution_count": null,
   "metadata": {},
   "outputs": [],
   "source": [
    "from qiskit.transpiler import PassManager\n",
    "from qiskit.transpiler.passes import Unroller\n",
    "\n",
    "\n",
    "def cost_function(circuit):\n",
    "    if not isinstance(circuit, (QuantumCircuit)):\n",
    "        print(\"the inserted circuit must be a QuantumCircuit object, not {}\".format(type(circuit)))\n",
    "    else:\n",
    "        basis_gate_set = ['u3', 'cx'] # basis that we are unrolling the circuit into\n",
    "\n",
    "        # changing our basis using an Unroller\n",
    "        pass_ = Unroller(basis_gate_set)\n",
    "        pm = PassManager(pass_)\n",
    "        unrolled_circuit = pm.run(circuit)\n",
    "\n",
    "        # calculating the cost function using the equation given above\n",
    "        gates = unrolled_circuit.count_ops()\n",
    "        circuit_cost = gates['u3'] + 10*gates['cx']\n",
    "        \n",
    "    return circuit_cost, gates, unrolled_circuit"
   ]
  },
  {
   "cell_type": "markdown",
   "metadata": {},
   "source": [
    "Internally, the `cost_function()` method uses an `Unroller` pass to convert our circuit to the {'u3', 'cx'} basis gate set and then applies the cost function equation as defined above. Here are a few resources to understand how the transpiler works: \n",
    "\n",
    "* Qiskit Terra Documentation - [Transpiler](https://qiskit.org/documentation/apidoc/transpiler.html)\n",
    "* Advanced Circuit Tutorial - [Tranpiler Passes and Pass Manager](https://qiskit.org/documentation/tutorials/circuits_advanced/4_transpiler_passes_and_passmanager.html)\n",
    "\n",
    "\n",
    "Let's understand how to use the `cost_function()` method by applying it on a half adder circuit as given in [Chapter 1.2](https://qiskit.org/textbook/ch-states/atoms-computation.html) of the Qiskit Textbook. "
   ]
  },
  {
   "cell_type": "code",
   "execution_count": null,
   "metadata": {},
   "outputs": [],
   "source": [
    "# Constructing the Half Adder circuit\n",
    "\n",
    "qc_ha = QuantumCircuit(4,2)\n",
    "# encode inputs in qubits 0 and 1\n",
    "qc_ha.x(0) # For a=0, remove the this line. For a=1, leave it.\n",
    "qc_ha.x(1) # For b=0, remove the this line. For b=1, leave it.\n",
    "qc_ha.barrier()\n",
    "# use cnots to write the XOR of the inputs on qubit 2\n",
    "qc_ha.cx(0,2)\n",
    "qc_ha.cx(1,2)\n",
    "# use ccx to write the AND of the inputs on qubit 3\n",
    "qc_ha.ccx(0,1,3)\n",
    "qc_ha.barrier()\n",
    "# extract outputs\n",
    "qc_ha.measure(2,0) # extract XOR value\n",
    "qc_ha.measure(3,1) # extract AND value\n",
    "\n",
    "qc_ha.draw()"
   ]
  },
  {
   "cell_type": "code",
   "execution_count": null,
   "metadata": {},
   "outputs": [],
   "source": [
    "circuit_cost, gates, unrolled_circuit = cost_function(qc_ha)\n",
    "\n",
    "print('Cost of the circuit : {}'.format(circuit_cost))\n",
    "print('Gates counts after unrolling : {}'.format(gates))\n",
    "print('Circuit after unrolling :')\n",
    "unrolled_circuit.draw()"
   ]
  },
  {
   "cell_type": "markdown",
   "metadata": {},
   "source": [
    "## Submission\n",
    "\n",
    "This is an ungraded exercise, thus, there is **NO SUBMISSION** required and is for the sake of practice only. However, we encourage you to share your circuits on the [#india-challenge-2020](https://qiskit.slack.com/archives/C019M7072A0) channel on Qiskit Slack and compare your circuit costs. How low can you go?"
   ]
  }
 ],
 "metadata": {
  "kernelspec": {
   "display_name": "Python 3",
   "language": "python",
   "name": "python3"
  },
  "language_info": {
   "codemirror_mode": {
    "name": "ipython",
    "version": 3
   },
   "file_extension": ".py",
   "mimetype": "text/x-python",
   "name": "python",
   "nbconvert_exporter": "python",
   "pygments_lexer": "ipython3",
   "version": "3.8.3"
  }
 },
 "nbformat": 4,
 "nbformat_minor": 4
}
